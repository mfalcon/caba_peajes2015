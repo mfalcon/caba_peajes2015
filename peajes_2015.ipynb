{
 "cells": [
  {
   "cell_type": "code",
   "execution_count": 78,
   "metadata": {
    "collapsed": true
   },
   "outputs": [],
   "source": [
    "import pandas as pd"
   ]
  },
  {
   "cell_type": "code",
   "execution_count": 79,
   "metadata": {
    "collapsed": true
   },
   "outputs": [],
   "source": [
    "data = pd.read_csv('ausapasovehiculo-2015.csv',';')"
   ]
  },
  {
   "cell_type": "code",
   "execution_count": 80,
   "metadata": {
    "collapsed": false
   },
   "outputs": [
    {
     "data": {
      "text/html": [
       "<div>\n",
       "<table border=\"1\" class=\"dataframe\">\n",
       "  <thead>\n",
       "    <tr style=\"text-align: right;\">\n",
       "      <th></th>\n",
       "      <th>PERIODO</th>\n",
       "      <th>FECHA</th>\n",
       "      <th>DIA</th>\n",
       "      <th>HORA</th>\n",
       "      <th>HORA_FIN</th>\n",
       "      <th>ESTACION</th>\n",
       "      <th>TIPO_VEHICULO</th>\n",
       "      <th>FORMA_PAGO</th>\n",
       "      <th>CANTIDAD_PASOS</th>\n",
       "    </tr>\n",
       "  </thead>\n",
       "  <tbody>\n",
       "    <tr>\n",
       "      <th>1048570</th>\n",
       "      <td>2015</td>\n",
       "      <td>22/12/2015</td>\n",
       "      <td>MARTES</td>\n",
       "      <td>4:00:00</td>\n",
       "      <td>5:00:00</td>\n",
       "      <td>AVE</td>\n",
       "      <td>LIVIANO</td>\n",
       "      <td>INFRACCION</td>\n",
       "      <td>4</td>\n",
       "    </tr>\n",
       "    <tr>\n",
       "      <th>1048571</th>\n",
       "      <td>2015</td>\n",
       "      <td>22/12/2015</td>\n",
       "      <td>MARTES</td>\n",
       "      <td>4:00:00</td>\n",
       "      <td>5:00:00</td>\n",
       "      <td>AVE</td>\n",
       "      <td>LIVIANO</td>\n",
       "      <td>AUPASS</td>\n",
       "      <td>53</td>\n",
       "    </tr>\n",
       "    <tr>\n",
       "      <th>1048572</th>\n",
       "      <td>2015</td>\n",
       "      <td>22/12/2015</td>\n",
       "      <td>MARTES</td>\n",
       "      <td>4:00:00</td>\n",
       "      <td>5:00:00</td>\n",
       "      <td>AVE</td>\n",
       "      <td>LIVIANO</td>\n",
       "      <td>EFECTIVO</td>\n",
       "      <td>16</td>\n",
       "    </tr>\n",
       "    <tr>\n",
       "      <th>1048573</th>\n",
       "      <td>2015</td>\n",
       "      <td>22/12/2015</td>\n",
       "      <td>MARTES</td>\n",
       "      <td>4:00:00</td>\n",
       "      <td>5:00:00</td>\n",
       "      <td>AVE</td>\n",
       "      <td>LIVIANO</td>\n",
       "      <td>AUPASS</td>\n",
       "      <td>11</td>\n",
       "    </tr>\n",
       "    <tr>\n",
       "      <th>1048574</th>\n",
       "      <td>2015</td>\n",
       "      <td>22/12/2015</td>\n",
       "      <td>MARTES</td>\n",
       "      <td>4:00:00</td>\n",
       "      <td>5:00:00</td>\n",
       "      <td>AVE</td>\n",
       "      <td>LIVIANO</td>\n",
       "      <td>EXENTO</td>\n",
       "      <td>1</td>\n",
       "    </tr>\n",
       "  </tbody>\n",
       "</table>\n",
       "</div>"
      ],
      "text/plain": [
       "         PERIODO       FECHA     DIA     HORA HORA_FIN ESTACION TIPO_VEHICULO  \\\n",
       "1048570     2015  22/12/2015  MARTES  4:00:00  5:00:00      AVE       LIVIANO   \n",
       "1048571     2015  22/12/2015  MARTES  4:00:00  5:00:00      AVE       LIVIANO   \n",
       "1048572     2015  22/12/2015  MARTES  4:00:00  5:00:00      AVE       LIVIANO   \n",
       "1048573     2015  22/12/2015  MARTES  4:00:00  5:00:00      AVE       LIVIANO   \n",
       "1048574     2015  22/12/2015  MARTES  4:00:00  5:00:00      AVE       LIVIANO   \n",
       "\n",
       "         FORMA_PAGO  CANTIDAD_PASOS  \n",
       "1048570  INFRACCION               4  \n",
       "1048571      AUPASS              53  \n",
       "1048572    EFECTIVO              16  \n",
       "1048573      AUPASS              11  \n",
       "1048574      EXENTO               1  "
      ]
     },
     "execution_count": 80,
     "metadata": {},
     "output_type": "execute_result"
    }
   ],
   "source": [
    "data.tail()"
   ]
  },
  {
   "cell_type": "code",
   "execution_count": 81,
   "metadata": {
    "collapsed": false
   },
   "outputs": [
    {
     "data": {
      "text/plain": [
       "array(['0:00:00', '1:00:00', '2:00:00', '3:00:00', '4:00:00', '5:00:00',\n",
       "       '6:00:00', '7:00:00', '8:00:00', '9:00:00', '10:00:00', '11:00:00',\n",
       "       '12:00:00', '13:00:00', '14:00:00', '15:00:00', '16:00:00',\n",
       "       '17:00:00', '18:00:00', '19:00:00', '20:00:00', '21:00:00',\n",
       "       '22:00:00', '23:00:00'], dtype=object)"
      ]
     },
     "execution_count": 81,
     "metadata": {},
     "output_type": "execute_result"
    }
   ],
   "source": [
    "data['HORA'].unique()"
   ]
  },
  {
   "cell_type": "code",
   "execution_count": 82,
   "metadata": {
    "collapsed": true
   },
   "outputs": [],
   "source": [
    "data['HORA'] = pd.to_datetime(data['HORA'], format='%H:%M:%S').dt.hour"
   ]
  },
  {
   "cell_type": "code",
   "execution_count": 83,
   "metadata": {
    "collapsed": false
   },
   "outputs": [
    {
     "data": {
      "text/plain": [
       "array(['ALB', 'AVE', 'DEL', 'ILL', 'RET', 'SAR', 'DEC', 'SAL'], dtype=object)"
      ]
     },
     "execution_count": 83,
     "metadata": {},
     "output_type": "execute_result"
    }
   ],
   "source": [
    "data['ESTACION'].unique()"
   ]
  },
  {
   "cell_type": "code",
   "execution_count": 84,
   "metadata": {
    "collapsed": false
   },
   "outputs": [],
   "source": [
    "agg_data = data.groupby(['HORA','ESTACION']).aggregate({'CANTIDAD_PASOS': 'mean'})"
   ]
  },
  {
   "cell_type": "code",
   "execution_count": 85,
   "metadata": {
    "collapsed": false
   },
   "outputs": [
    {
     "data": {
      "text/plain": [
       "CANTIDAD_PASOS    (16, AVE)\n",
       "dtype: object"
      ]
     },
     "execution_count": 85,
     "metadata": {},
     "output_type": "execute_result"
    }
   ],
   "source": [
    "agg_data.idxmax()"
   ]
  },
  {
   "cell_type": "code",
   "execution_count": 86,
   "metadata": {
    "collapsed": false
   },
   "outputs": [
    {
     "data": {
      "text/plain": [
       "CANTIDAD_PASOS    291.829134\n",
       "dtype: float64"
      ]
     },
     "execution_count": 86,
     "metadata": {},
     "output_type": "execute_result"
    }
   ],
   "source": [
    "agg_data.max()"
   ]
  },
  {
   "cell_type": "code",
   "execution_count": 87,
   "metadata": {
    "collapsed": false
   },
   "outputs": [],
   "source": [
    "#datos agregados y normalizados\n",
    "normalized_data = agg_data.reset_index()"
   ]
  },
  {
   "cell_type": "code",
   "execution_count": 92,
   "metadata": {
    "collapsed": false
   },
   "outputs": [],
   "source": [
    "tabular_data = normalized_data.pivot(index='HORA', columns='ESTACION', values='CANTIDAD_PASOS')"
   ]
  },
  {
   "cell_type": "code",
   "execution_count": 93,
   "metadata": {
    "collapsed": false
   },
   "outputs": [],
   "source": [
    "tabular_data.to_csv('viajes_por_estacion.csv')"
   ]
  },
  {
   "cell_type": "code",
   "execution_count": 94,
   "metadata": {
    "collapsed": false
   },
   "outputs": [
    {
     "data": {
      "text/html": [
       "<div>\n",
       "<table border=\"1\" class=\"dataframe\">\n",
       "  <thead>\n",
       "    <tr style=\"text-align: right;\">\n",
       "      <th>ESTACION</th>\n",
       "      <th>ALB</th>\n",
       "      <th>AVE</th>\n",
       "      <th>DEC</th>\n",
       "      <th>DEL</th>\n",
       "      <th>ILL</th>\n",
       "      <th>RET</th>\n",
       "      <th>SAL</th>\n",
       "      <th>SAR</th>\n",
       "    </tr>\n",
       "    <tr>\n",
       "      <th>HORA</th>\n",
       "      <th></th>\n",
       "      <th></th>\n",
       "      <th></th>\n",
       "      <th></th>\n",
       "      <th></th>\n",
       "      <th></th>\n",
       "      <th></th>\n",
       "      <th></th>\n",
       "    </tr>\n",
       "  </thead>\n",
       "  <tbody>\n",
       "    <tr>\n",
       "      <th>0</th>\n",
       "      <td>25.236806</td>\n",
       "      <td>106.589501</td>\n",
       "      <td>39.351268</td>\n",
       "      <td>55.196133</td>\n",
       "      <td>71.588697</td>\n",
       "      <td>10.845642</td>\n",
       "      <td>4.843085</td>\n",
       "      <td>17.184994</td>\n",
       "    </tr>\n",
       "    <tr>\n",
       "      <th>1</th>\n",
       "      <td>19.432085</td>\n",
       "      <td>82.514128</td>\n",
       "      <td>29.750646</td>\n",
       "      <td>43.087777</td>\n",
       "      <td>50.753956</td>\n",
       "      <td>7.982985</td>\n",
       "      <td>3.486726</td>\n",
       "      <td>10.374674</td>\n",
       "    </tr>\n",
       "    <tr>\n",
       "      <th>2</th>\n",
       "      <td>14.081186</td>\n",
       "      <td>57.622700</td>\n",
       "      <td>21.083878</td>\n",
       "      <td>32.759455</td>\n",
       "      <td>35.852022</td>\n",
       "      <td>6.377873</td>\n",
       "      <td>2.618182</td>\n",
       "      <td>6.577031</td>\n",
       "    </tr>\n",
       "    <tr>\n",
       "      <th>3</th>\n",
       "      <td>10.632455</td>\n",
       "      <td>44.245783</td>\n",
       "      <td>17.919061</td>\n",
       "      <td>30.978114</td>\n",
       "      <td>28.733543</td>\n",
       "      <td>5.950643</td>\n",
       "      <td>2.523622</td>\n",
       "      <td>5.029874</td>\n",
       "    </tr>\n",
       "    <tr>\n",
       "      <th>4</th>\n",
       "      <td>9.719780</td>\n",
       "      <td>48.190496</td>\n",
       "      <td>27.634266</td>\n",
       "      <td>33.701134</td>\n",
       "      <td>31.812331</td>\n",
       "      <td>7.184502</td>\n",
       "      <td>2.716912</td>\n",
       "      <td>5.244220</td>\n",
       "    </tr>\n",
       "    <tr>\n",
       "      <th>5</th>\n",
       "      <td>18.910400</td>\n",
       "      <td>88.700270</td>\n",
       "      <td>59.499435</td>\n",
       "      <td>46.074305</td>\n",
       "      <td>54.355816</td>\n",
       "      <td>12.164002</td>\n",
       "      <td>3.967033</td>\n",
       "      <td>8.153846</td>\n",
       "    </tr>\n",
       "    <tr>\n",
       "      <th>6</th>\n",
       "      <td>38.424404</td>\n",
       "      <td>176.977188</td>\n",
       "      <td>95.013129</td>\n",
       "      <td>68.220758</td>\n",
       "      <td>115.826428</td>\n",
       "      <td>16.522568</td>\n",
       "      <td>5.648501</td>\n",
       "      <td>12.915441</td>\n",
       "    </tr>\n",
       "    <tr>\n",
       "      <th>7</th>\n",
       "      <td>73.803245</td>\n",
       "      <td>151.220940</td>\n",
       "      <td>119.721365</td>\n",
       "      <td>89.281129</td>\n",
       "      <td>161.183128</td>\n",
       "      <td>19.840082</td>\n",
       "      <td>7.580723</td>\n",
       "      <td>47.552224</td>\n",
       "    </tr>\n",
       "    <tr>\n",
       "      <th>8</th>\n",
       "      <td>91.216479</td>\n",
       "      <td>167.439531</td>\n",
       "      <td>141.135172</td>\n",
       "      <td>107.381822</td>\n",
       "      <td>179.072849</td>\n",
       "      <td>22.081468</td>\n",
       "      <td>8.261663</td>\n",
       "      <td>67.623519</td>\n",
       "    </tr>\n",
       "    <tr>\n",
       "      <th>9</th>\n",
       "      <td>88.370110</td>\n",
       "      <td>166.645698</td>\n",
       "      <td>128.964215</td>\n",
       "      <td>106.054628</td>\n",
       "      <td>171.641696</td>\n",
       "      <td>23.791621</td>\n",
       "      <td>8.712743</td>\n",
       "      <td>63.666348</td>\n",
       "    </tr>\n",
       "    <tr>\n",
       "      <th>10</th>\n",
       "      <td>80.096380</td>\n",
       "      <td>251.144173</td>\n",
       "      <td>121.115972</td>\n",
       "      <td>113.019492</td>\n",
       "      <td>207.897922</td>\n",
       "      <td>25.213821</td>\n",
       "      <td>8.442623</td>\n",
       "      <td>48.749550</td>\n",
       "    </tr>\n",
       "    <tr>\n",
       "      <th>11</th>\n",
       "      <td>80.617351</td>\n",
       "      <td>274.187051</td>\n",
       "      <td>119.400323</td>\n",
       "      <td>118.990653</td>\n",
       "      <td>214.366202</td>\n",
       "      <td>26.601927</td>\n",
       "      <td>9.927813</td>\n",
       "      <td>56.722008</td>\n",
       "    </tr>\n",
       "    <tr>\n",
       "      <th>12</th>\n",
       "      <td>84.531765</td>\n",
       "      <td>282.244447</td>\n",
       "      <td>119.126744</td>\n",
       "      <td>122.741935</td>\n",
       "      <td>219.038663</td>\n",
       "      <td>27.978669</td>\n",
       "      <td>11.567391</td>\n",
       "      <td>65.590385</td>\n",
       "    </tr>\n",
       "    <tr>\n",
       "      <th>13</th>\n",
       "      <td>85.170336</td>\n",
       "      <td>287.121631</td>\n",
       "      <td>123.274463</td>\n",
       "      <td>120.411308</td>\n",
       "      <td>218.076379</td>\n",
       "      <td>30.053196</td>\n",
       "      <td>12.369330</td>\n",
       "      <td>57.941948</td>\n",
       "    </tr>\n",
       "    <tr>\n",
       "      <th>14</th>\n",
       "      <td>82.893870</td>\n",
       "      <td>275.505738</td>\n",
       "      <td>113.802846</td>\n",
       "      <td>115.826450</td>\n",
       "      <td>204.218557</td>\n",
       "      <td>31.578425</td>\n",
       "      <td>11.226263</td>\n",
       "      <td>50.052239</td>\n",
       "    </tr>\n",
       "    <tr>\n",
       "      <th>15</th>\n",
       "      <td>85.486626</td>\n",
       "      <td>282.859341</td>\n",
       "      <td>109.750073</td>\n",
       "      <td>111.646107</td>\n",
       "      <td>220.664213</td>\n",
       "      <td>30.536296</td>\n",
       "      <td>12.658103</td>\n",
       "      <td>56.639098</td>\n",
       "    </tr>\n",
       "    <tr>\n",
       "      <th>16</th>\n",
       "      <td>85.480313</td>\n",
       "      <td>291.829134</td>\n",
       "      <td>115.067884</td>\n",
       "      <td>116.053483</td>\n",
       "      <td>228.604100</td>\n",
       "      <td>32.562386</td>\n",
       "      <td>13.797189</td>\n",
       "      <td>58.195777</td>\n",
       "    </tr>\n",
       "    <tr>\n",
       "      <th>17</th>\n",
       "      <td>88.371665</td>\n",
       "      <td>195.021407</td>\n",
       "      <td>123.231595</td>\n",
       "      <td>106.576697</td>\n",
       "      <td>178.107008</td>\n",
       "      <td>33.268603</td>\n",
       "      <td>16.292111</td>\n",
       "      <td>59.100598</td>\n",
       "    </tr>\n",
       "    <tr>\n",
       "      <th>18</th>\n",
       "      <td>88.963148</td>\n",
       "      <td>198.027964</td>\n",
       "      <td>121.790519</td>\n",
       "      <td>110.743584</td>\n",
       "      <td>185.446802</td>\n",
       "      <td>34.895273</td>\n",
       "      <td>15.205394</td>\n",
       "      <td>57.308004</td>\n",
       "    </tr>\n",
       "    <tr>\n",
       "      <th>19</th>\n",
       "      <td>77.193778</td>\n",
       "      <td>179.387889</td>\n",
       "      <td>102.501862</td>\n",
       "      <td>112.355055</td>\n",
       "      <td>157.822011</td>\n",
       "      <td>27.947787</td>\n",
       "      <td>13.723744</td>\n",
       "      <td>54.469806</td>\n",
       "    </tr>\n",
       "    <tr>\n",
       "      <th>20</th>\n",
       "      <td>72.144158</td>\n",
       "      <td>261.525683</td>\n",
       "      <td>102.314855</td>\n",
       "      <td>114.866326</td>\n",
       "      <td>180.682206</td>\n",
       "      <td>26.489237</td>\n",
       "      <td>13.265700</td>\n",
       "      <td>54.411100</td>\n",
       "    </tr>\n",
       "    <tr>\n",
       "      <th>21</th>\n",
       "      <td>59.676370</td>\n",
       "      <td>218.477283</td>\n",
       "      <td>90.991459</td>\n",
       "      <td>102.148673</td>\n",
       "      <td>144.952611</td>\n",
       "      <td>21.345760</td>\n",
       "      <td>10.297229</td>\n",
       "      <td>36.630388</td>\n",
       "    </tr>\n",
       "    <tr>\n",
       "      <th>22</th>\n",
       "      <td>39.191931</td>\n",
       "      <td>151.136781</td>\n",
       "      <td>66.808995</td>\n",
       "      <td>78.225668</td>\n",
       "      <td>101.622285</td>\n",
       "      <td>18.310603</td>\n",
       "      <td>7.089286</td>\n",
       "      <td>21.451397</td>\n",
       "    </tr>\n",
       "    <tr>\n",
       "      <th>23</th>\n",
       "      <td>30.236434</td>\n",
       "      <td>121.087782</td>\n",
       "      <td>47.603515</td>\n",
       "      <td>60.539804</td>\n",
       "      <td>82.844435</td>\n",
       "      <td>13.376754</td>\n",
       "      <td>5.613158</td>\n",
       "      <td>18.305455</td>\n",
       "    </tr>\n",
       "  </tbody>\n",
       "</table>\n",
       "</div>"
      ],
      "text/plain": [
       "ESTACION        ALB         AVE         DEC         DEL         ILL  \\\n",
       "HORA                                                                  \n",
       "0         25.236806  106.589501   39.351268   55.196133   71.588697   \n",
       "1         19.432085   82.514128   29.750646   43.087777   50.753956   \n",
       "2         14.081186   57.622700   21.083878   32.759455   35.852022   \n",
       "3         10.632455   44.245783   17.919061   30.978114   28.733543   \n",
       "4          9.719780   48.190496   27.634266   33.701134   31.812331   \n",
       "5         18.910400   88.700270   59.499435   46.074305   54.355816   \n",
       "6         38.424404  176.977188   95.013129   68.220758  115.826428   \n",
       "7         73.803245  151.220940  119.721365   89.281129  161.183128   \n",
       "8         91.216479  167.439531  141.135172  107.381822  179.072849   \n",
       "9         88.370110  166.645698  128.964215  106.054628  171.641696   \n",
       "10        80.096380  251.144173  121.115972  113.019492  207.897922   \n",
       "11        80.617351  274.187051  119.400323  118.990653  214.366202   \n",
       "12        84.531765  282.244447  119.126744  122.741935  219.038663   \n",
       "13        85.170336  287.121631  123.274463  120.411308  218.076379   \n",
       "14        82.893870  275.505738  113.802846  115.826450  204.218557   \n",
       "15        85.486626  282.859341  109.750073  111.646107  220.664213   \n",
       "16        85.480313  291.829134  115.067884  116.053483  228.604100   \n",
       "17        88.371665  195.021407  123.231595  106.576697  178.107008   \n",
       "18        88.963148  198.027964  121.790519  110.743584  185.446802   \n",
       "19        77.193778  179.387889  102.501862  112.355055  157.822011   \n",
       "20        72.144158  261.525683  102.314855  114.866326  180.682206   \n",
       "21        59.676370  218.477283   90.991459  102.148673  144.952611   \n",
       "22        39.191931  151.136781   66.808995   78.225668  101.622285   \n",
       "23        30.236434  121.087782   47.603515   60.539804   82.844435   \n",
       "\n",
       "ESTACION        RET        SAL        SAR  \n",
       "HORA                                       \n",
       "0         10.845642   4.843085  17.184994  \n",
       "1          7.982985   3.486726  10.374674  \n",
       "2          6.377873   2.618182   6.577031  \n",
       "3          5.950643   2.523622   5.029874  \n",
       "4          7.184502   2.716912   5.244220  \n",
       "5         12.164002   3.967033   8.153846  \n",
       "6         16.522568   5.648501  12.915441  \n",
       "7         19.840082   7.580723  47.552224  \n",
       "8         22.081468   8.261663  67.623519  \n",
       "9         23.791621   8.712743  63.666348  \n",
       "10        25.213821   8.442623  48.749550  \n",
       "11        26.601927   9.927813  56.722008  \n",
       "12        27.978669  11.567391  65.590385  \n",
       "13        30.053196  12.369330  57.941948  \n",
       "14        31.578425  11.226263  50.052239  \n",
       "15        30.536296  12.658103  56.639098  \n",
       "16        32.562386  13.797189  58.195777  \n",
       "17        33.268603  16.292111  59.100598  \n",
       "18        34.895273  15.205394  57.308004  \n",
       "19        27.947787  13.723744  54.469806  \n",
       "20        26.489237  13.265700  54.411100  \n",
       "21        21.345760  10.297229  36.630388  \n",
       "22        18.310603   7.089286  21.451397  \n",
       "23        13.376754   5.613158  18.305455  "
      ]
     },
     "execution_count": 94,
     "metadata": {},
     "output_type": "execute_result"
    }
   ],
   "source": [
    "tabular_data"
   ]
  }
 ],
 "metadata": {
  "kernelspec": {
   "display_name": "Python 3",
   "language": "python",
   "name": "python3"
  },
  "language_info": {
   "codemirror_mode": {
    "name": "ipython",
    "version": 3
   },
   "file_extension": ".py",
   "mimetype": "text/x-python",
   "name": "python",
   "nbconvert_exporter": "python",
   "pygments_lexer": "ipython3",
   "version": "3.6.0"
  }
 },
 "nbformat": 4,
 "nbformat_minor": 2
}
